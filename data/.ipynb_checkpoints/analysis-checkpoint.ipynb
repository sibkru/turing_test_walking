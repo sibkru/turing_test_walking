{
 "cells": [
  {
   "cell_type": "markdown",
   "metadata": {},
   "source": [
    "# analysis"
   ]
  },
  {
   "cell_type": "markdown",
   "metadata": {},
   "source": [
    "## ToDo"
   ]
  },
  {
   "cell_type": "markdown",
   "metadata": {},
   "source": [
    "- __Importing more than one data json__\n",
    "- How to group by subjects models and movements\n",
    "- Model specific confusion rate\n",
    "- How to manage or represent all this data\n",
    "- ..."
   ]
  },
  {
   "cell_type": "markdown",
   "metadata": {},
   "source": [
    "## data structure"
   ]
  },
  {
   "cell_type": "markdown",
   "metadata": {},
   "source": [
    "..."
   ]
  },
  {
   "cell_type": "markdown",
   "metadata": {},
   "source": []
  },
  {
   "cell_type": "code",
   "execution_count": 1,
   "metadata": {
    "scrolled": true
   },
   "outputs": [],
   "source": [
    "import numpy as np\n",
    "import pandas as pd\n",
    "import json, os"
   ]
  },
  {
   "cell_type": "code",
   "execution_count": 2,
   "metadata": {},
   "outputs": [],
   "source": [
    "path_to_json = '/users/hieu/git/turing_test_walking/data'\n",
    "\n",
    "json_files = [pos_json for pos_json in os.listdir(path_to_json) if pos_json.endswith('.json')]\n",
    "first_file = json_files.pop()\n",
    "with open(first_file,'r') as f:\n",
    "    file = json.loads(f.read())\n",
    "data = pd.json_normalize(file)"
   ]
  },
  {
   "cell_type": "code",
   "execution_count": 6,
   "metadata": {},
   "outputs": [
    {
     "data": {
      "text/html": [
       "<div>\n",
       "<style scoped>\n",
       "    .dataframe tbody tr th:only-of-type {\n",
       "        vertical-align: middle;\n",
       "    }\n",
       "\n",
       "    .dataframe tbody tr th {\n",
       "        vertical-align: top;\n",
       "    }\n",
       "\n",
       "    .dataframe thead th {\n",
       "        text-align: right;\n",
       "    }\n",
       "</style>\n",
       "<table border=\"1\" class=\"dataframe\">\n",
       "  <thead>\n",
       "    <tr style=\"text-align: right;\">\n",
       "      <th></th>\n",
       "      <th>rt</th>\n",
       "      <th>stimulus</th>\n",
       "      <th>button_pressed</th>\n",
       "      <th>trial_type</th>\n",
       "      <th>trial_index</th>\n",
       "      <th>time_elapsed</th>\n",
       "      <th>internal_node_id</th>\n",
       "      <th>subject</th>\n",
       "      <th>view_history</th>\n",
       "      <th>key_press</th>\n",
       "      <th>test_part</th>\n",
       "      <th>test_stimulus.position</th>\n",
       "      <th>test_stimulus.left</th>\n",
       "      <th>test_stimulus.right</th>\n",
       "      <th>test_stimulus.att_check</th>\n",
       "    </tr>\n",
       "  </thead>\n",
       "  <tbody>\n",
       "    <tr>\n",
       "      <th>0</th>\n",
       "      <td>973.0</td>\n",
       "      <td>&lt;p&gt;Welcome!&lt;br&gt; Please choose your language to...</td>\n",
       "      <td>1</td>\n",
       "      <td>html-button-response</td>\n",
       "      <td>0</td>\n",
       "      <td>980</td>\n",
       "      <td>0.0-0.0</td>\n",
       "      <td>bt4quvsv7wdsku4</td>\n",
       "      <td>NaN</td>\n",
       "      <td>NaN</td>\n",
       "      <td>NaN</td>\n",
       "      <td>NaN</td>\n",
       "      <td>NaN</td>\n",
       "      <td>NaN</td>\n",
       "      <td>NaN</td>\n",
       "    </tr>\n",
       "    <tr>\n",
       "      <th>1</th>\n",
       "      <td>2206.0</td>\n",
       "      <td>NaN</td>\n",
       "      <td>NaN</td>\n",
       "      <td>instructions</td>\n",
       "      <td>1</td>\n",
       "      <td>3188</td>\n",
       "      <td>0.0-1.0-0.0</td>\n",
       "      <td>bt4quvsv7wdsku4</td>\n",
       "      <td>[{\"page_index\":0,\"viewing_time\":515},{\"page_in...</td>\n",
       "      <td>NaN</td>\n",
       "      <td>NaN</td>\n",
       "      <td>NaN</td>\n",
       "      <td>NaN</td>\n",
       "      <td>NaN</td>\n",
       "      <td>NaN</td>\n",
       "    </tr>\n",
       "    <tr>\n",
       "      <th>2</th>\n",
       "      <td>785.0</td>\n",
       "      <td>&lt;p&gt;Bereit?&lt;/p&gt;</td>\n",
       "      <td>0</td>\n",
       "      <td>html-button-response</td>\n",
       "      <td>2</td>\n",
       "      <td>3976</td>\n",
       "      <td>0.0-3.0</td>\n",
       "      <td>bt4quvsv7wdsku4</td>\n",
       "      <td>NaN</td>\n",
       "      <td>NaN</td>\n",
       "      <td>NaN</td>\n",
       "      <td>NaN</td>\n",
       "      <td>NaN</td>\n",
       "      <td>NaN</td>\n",
       "      <td>NaN</td>\n",
       "    </tr>\n",
       "    <tr>\n",
       "      <th>3</th>\n",
       "      <td>NaN</td>\n",
       "      <td>&lt;div style=\"font-size:60px;\"&gt;+&lt;/div&gt;</td>\n",
       "      <td>NaN</td>\n",
       "      <td>html-keyboard-response</td>\n",
       "      <td>3</td>\n",
       "      <td>5981</td>\n",
       "      <td>0.0-4.0</td>\n",
       "      <td>bt4quvsv7wdsku4</td>\n",
       "      <td>NaN</td>\n",
       "      <td>NaN</td>\n",
       "      <td>NaN</td>\n",
       "      <td>NaN</td>\n",
       "      <td>NaN</td>\n",
       "      <td>NaN</td>\n",
       "      <td>NaN</td>\n",
       "    </tr>\n",
       "    <tr>\n",
       "      <th>4</th>\n",
       "      <td>NaN</td>\n",
       "      <td>NaN</td>\n",
       "      <td>NaN</td>\n",
       "      <td>training</td>\n",
       "      <td>4</td>\n",
       "      <td>9769</td>\n",
       "      <td>0.0-5.0</td>\n",
       "      <td>bt4quvsv7wdsku4</td>\n",
       "      <td>NaN</td>\n",
       "      <td>NaN</td>\n",
       "      <td>NaN</td>\n",
       "      <td>NaN</td>\n",
       "      <td>NaN</td>\n",
       "      <td>NaN</td>\n",
       "      <td>NaN</td>\n",
       "    </tr>\n",
       "    <tr>\n",
       "      <th>...</th>\n",
       "      <td>...</td>\n",
       "      <td>...</td>\n",
       "      <td>...</td>\n",
       "      <td>...</td>\n",
       "      <td>...</td>\n",
       "      <td>...</td>\n",
       "      <td>...</td>\n",
       "      <td>...</td>\n",
       "      <td>...</td>\n",
       "      <td>...</td>\n",
       "      <td>...</td>\n",
       "      <td>...</td>\n",
       "      <td>...</td>\n",
       "      <td>...</td>\n",
       "      <td>...</td>\n",
       "    </tr>\n",
       "    <tr>\n",
       "      <th>169</th>\n",
       "      <td>NaN</td>\n",
       "      <td>NaN</td>\n",
       "      <td>NaN</td>\n",
       "      <td>turing-test</td>\n",
       "      <td>169</td>\n",
       "      <td>1195076</td>\n",
       "      <td>0.0-8.0-2.40</td>\n",
       "      <td>bt4quvsv7wdsku4</td>\n",
       "      <td>NaN</td>\n",
       "      <td>NaN</td>\n",
       "      <td>NaN</td>\n",
       "      <td>NaN</td>\n",
       "      <td>NaN</td>\n",
       "      <td>NaN</td>\n",
       "      <td>NaN</td>\n",
       "    </tr>\n",
       "    <tr>\n",
       "      <th>170</th>\n",
       "      <td>792.0</td>\n",
       "      <td>&lt;p&gt;Welche Sequenz haben Sie als natürlicher em...</td>\n",
       "      <td>0</td>\n",
       "      <td>html-button-response</td>\n",
       "      <td>170</td>\n",
       "      <td>1195872</td>\n",
       "      <td>0.0-8.0-3.40</td>\n",
       "      <td>bt4quvsv7wdsku4</td>\n",
       "      <td>NaN</td>\n",
       "      <td>NaN</td>\n",
       "      <td>response</td>\n",
       "      <td>0.0</td>\n",
       "      <td>bvh/return-bottle-hold-training4-lines.txt</td>\n",
       "      <td>bvh/vr_prediction_models/model(vcgpdm)-dataset...</td>\n",
       "      <td>False</td>\n",
       "    </tr>\n",
       "    <tr>\n",
       "      <th>171</th>\n",
       "      <td>696.0</td>\n",
       "      <td>&lt;p&gt;Bereit?&lt;/p&gt;</td>\n",
       "      <td>0</td>\n",
       "      <td>html-button-response</td>\n",
       "      <td>171</td>\n",
       "      <td>1196569</td>\n",
       "      <td>0.0-8.0-0.41</td>\n",
       "      <td>bt4quvsv7wdsku4</td>\n",
       "      <td>NaN</td>\n",
       "      <td>NaN</td>\n",
       "      <td>NaN</td>\n",
       "      <td>NaN</td>\n",
       "      <td>NaN</td>\n",
       "      <td>NaN</td>\n",
       "      <td>NaN</td>\n",
       "    </tr>\n",
       "    <tr>\n",
       "      <th>172</th>\n",
       "      <td>NaN</td>\n",
       "      <td>&lt;div style=\"font-size:60px;\"&gt;+&lt;/div&gt;</td>\n",
       "      <td>NaN</td>\n",
       "      <td>html-keyboard-response</td>\n",
       "      <td>172</td>\n",
       "      <td>1198576</td>\n",
       "      <td>0.0-8.0-1.41</td>\n",
       "      <td>bt4quvsv7wdsku4</td>\n",
       "      <td>NaN</td>\n",
       "      <td>NaN</td>\n",
       "      <td>NaN</td>\n",
       "      <td>NaN</td>\n",
       "      <td>NaN</td>\n",
       "      <td>NaN</td>\n",
       "      <td>NaN</td>\n",
       "    </tr>\n",
       "    <tr>\n",
       "      <th>173</th>\n",
       "      <td>NaN</td>\n",
       "      <td>NaN</td>\n",
       "      <td>NaN</td>\n",
       "      <td>turing-test</td>\n",
       "      <td>173</td>\n",
       "      <td>1202568</td>\n",
       "      <td>0.0-8.0-2.41</td>\n",
       "      <td>bt4quvsv7wdsku4</td>\n",
       "      <td>NaN</td>\n",
       "      <td>NaN</td>\n",
       "      <td>NaN</td>\n",
       "      <td>NaN</td>\n",
       "      <td>NaN</td>\n",
       "      <td>NaN</td>\n",
       "      <td>NaN</td>\n",
       "    </tr>\n",
       "  </tbody>\n",
       "</table>\n",
       "<p>174 rows × 15 columns</p>\n",
       "</div>"
      ],
      "text/plain": [
       "         rt                                           stimulus button_pressed  \\\n",
       "0     973.0  <p>Welcome!<br> Please choose your language to...              1   \n",
       "1    2206.0                                                NaN            NaN   \n",
       "2     785.0                                     <p>Bereit?</p>              0   \n",
       "3       NaN               <div style=\"font-size:60px;\">+</div>            NaN   \n",
       "4       NaN                                                NaN            NaN   \n",
       "..      ...                                                ...            ...   \n",
       "169     NaN                                                NaN            NaN   \n",
       "170   792.0  <p>Welche Sequenz haben Sie als natürlicher em...              0   \n",
       "171   696.0                                     <p>Bereit?</p>              0   \n",
       "172     NaN               <div style=\"font-size:60px;\">+</div>            NaN   \n",
       "173     NaN                                                NaN            NaN   \n",
       "\n",
       "                 trial_type  trial_index  time_elapsed internal_node_id  \\\n",
       "0      html-button-response            0           980          0.0-0.0   \n",
       "1              instructions            1          3188      0.0-1.0-0.0   \n",
       "2      html-button-response            2          3976          0.0-3.0   \n",
       "3    html-keyboard-response            3          5981          0.0-4.0   \n",
       "4                  training            4          9769          0.0-5.0   \n",
       "..                      ...          ...           ...              ...   \n",
       "169             turing-test          169       1195076     0.0-8.0-2.40   \n",
       "170    html-button-response          170       1195872     0.0-8.0-3.40   \n",
       "171    html-button-response          171       1196569     0.0-8.0-0.41   \n",
       "172  html-keyboard-response          172       1198576     0.0-8.0-1.41   \n",
       "173             turing-test          173       1202568     0.0-8.0-2.41   \n",
       "\n",
       "             subject                                       view_history  \\\n",
       "0    bt4quvsv7wdsku4                                                NaN   \n",
       "1    bt4quvsv7wdsku4  [{\"page_index\":0,\"viewing_time\":515},{\"page_in...   \n",
       "2    bt4quvsv7wdsku4                                                NaN   \n",
       "3    bt4quvsv7wdsku4                                                NaN   \n",
       "4    bt4quvsv7wdsku4                                                NaN   \n",
       "..               ...                                                ...   \n",
       "169  bt4quvsv7wdsku4                                                NaN   \n",
       "170  bt4quvsv7wdsku4                                                NaN   \n",
       "171  bt4quvsv7wdsku4                                                NaN   \n",
       "172  bt4quvsv7wdsku4                                                NaN   \n",
       "173  bt4quvsv7wdsku4                                                NaN   \n",
       "\n",
       "     key_press test_part  test_stimulus.position  \\\n",
       "0          NaN       NaN                     NaN   \n",
       "1          NaN       NaN                     NaN   \n",
       "2          NaN       NaN                     NaN   \n",
       "3          NaN       NaN                     NaN   \n",
       "4          NaN       NaN                     NaN   \n",
       "..         ...       ...                     ...   \n",
       "169        NaN       NaN                     NaN   \n",
       "170        NaN  response                     0.0   \n",
       "171        NaN       NaN                     NaN   \n",
       "172        NaN       NaN                     NaN   \n",
       "173        NaN       NaN                     NaN   \n",
       "\n",
       "                             test_stimulus.left  \\\n",
       "0                                           NaN   \n",
       "1                                           NaN   \n",
       "2                                           NaN   \n",
       "3                                           NaN   \n",
       "4                                           NaN   \n",
       "..                                          ...   \n",
       "169                                         NaN   \n",
       "170  bvh/return-bottle-hold-training4-lines.txt   \n",
       "171                                         NaN   \n",
       "172                                         NaN   \n",
       "173                                         NaN   \n",
       "\n",
       "                                   test_stimulus.right test_stimulus.att_check  \n",
       "0                                                  NaN                     NaN  \n",
       "1                                                  NaN                     NaN  \n",
       "2                                                  NaN                     NaN  \n",
       "3                                                  NaN                     NaN  \n",
       "4                                                  NaN                     NaN  \n",
       "..                                                 ...                     ...  \n",
       "169                                                NaN                     NaN  \n",
       "170  bvh/vr_prediction_models/model(vcgpdm)-dataset...                   False  \n",
       "171                                                NaN                     NaN  \n",
       "172                                                NaN                     NaN  \n",
       "173                                                NaN                     NaN  \n",
       "\n",
       "[174 rows x 15 columns]"
      ]
     },
     "execution_count": 6,
     "metadata": {},
     "output_type": "execute_result"
    }
   ],
   "source": [
    "for "
   ]
  },
  {
   "cell_type": "markdown",
   "metadata": {},
   "source": [
    "  ## parsing"
   ]
  },
  {
   "cell_type": "code",
   "execution_count": 4,
   "metadata": {},
   "outputs": [
    {
     "ename": "NameError",
     "evalue": "name 'df' is not defined",
     "output_type": "error",
     "traceback": [
      "\u001b[0;31m---------------------------------------------------------------------------\u001b[0m",
      "\u001b[0;31mNameError\u001b[0m                                 Traceback (most recent call last)",
      "\u001b[0;32m<ipython-input-4-c16099244a06>\u001b[0m in \u001b[0;36m<module>\u001b[0;34m\u001b[0m\n\u001b[0;32m----> 1\u001b[0;31m \u001b[0mdf\u001b[0m \u001b[0;34m=\u001b[0m \u001b[0mdf\u001b[0m\u001b[0;34m[\u001b[0m\u001b[0mdf\u001b[0m\u001b[0;34m[\u001b[0m\u001b[0;34m'test_part'\u001b[0m\u001b[0;34m]\u001b[0m \u001b[0;34m==\u001b[0m \u001b[0;34m'response'\u001b[0m\u001b[0;34m]\u001b[0m\u001b[0;34m.\u001b[0m\u001b[0mreset_index\u001b[0m\u001b[0;34m(\u001b[0m\u001b[0;34m)\u001b[0m\u001b[0;34m\u001b[0m\u001b[0;34m\u001b[0m\u001b[0m\n\u001b[0m\u001b[1;32m      2\u001b[0m \u001b[0;34m\u001b[0m\u001b[0m\n\u001b[1;32m      3\u001b[0m \u001b[0mdf\u001b[0m\u001b[0;34m[\u001b[0m\u001b[0;34m'button_pressed'\u001b[0m\u001b[0;34m]\u001b[0m \u001b[0;34m=\u001b[0m \u001b[0mdf\u001b[0m\u001b[0;34m[\u001b[0m\u001b[0;34m'button_pressed'\u001b[0m\u001b[0;34m]\u001b[0m\u001b[0;34m.\u001b[0m\u001b[0mastype\u001b[0m\u001b[0;34m(\u001b[0m\u001b[0mint\u001b[0m\u001b[0;34m)\u001b[0m\u001b[0;34m\u001b[0m\u001b[0;34m\u001b[0m\u001b[0m\n\u001b[1;32m      4\u001b[0m \u001b[0mdf\u001b[0m\u001b[0;34m[\u001b[0m\u001b[0;34m'test_stimulus.position'\u001b[0m\u001b[0;34m]\u001b[0m \u001b[0;34m=\u001b[0m \u001b[0mdf\u001b[0m\u001b[0;34m[\u001b[0m\u001b[0;34m'test_stimulus.position'\u001b[0m\u001b[0;34m]\u001b[0m\u001b[0;34m.\u001b[0m\u001b[0mastype\u001b[0m\u001b[0;34m(\u001b[0m\u001b[0mint\u001b[0m\u001b[0;34m)\u001b[0m\u001b[0;34m\u001b[0m\u001b[0;34m\u001b[0m\u001b[0m\n\u001b[1;32m      5\u001b[0m \u001b[0;34m\u001b[0m\u001b[0m\n",
      "\u001b[0;31mNameError\u001b[0m: name 'df' is not defined"
     ]
    }
   ],
   "source": [
    "df = df[df['test_part'] == 'response'].reset_index()\n",
    "\n",
    "df['button_pressed'] = df['button_pressed'].astype(int)\n",
    "df['test_stimulus.position'] = df['test_stimulus.position'].astype(int)\n",
    "\n",
    "df = df.rename(columns={\"test_stimulus.left\": \"left\",\n",
    "                        \"test_stimulus.right\": \"right\",\n",
    "                        \"test_stimulus.att_check\": \"att_check\",\n",
    "                        \"test_stimulus.position\": \"position\",\n",
    "                        \"button_pressed\":\"pressed\"})"
   ]
  },
  {
   "cell_type": "code",
   "execution_count": null,
   "metadata": {},
   "outputs": [],
   "source": [
    "df = df[['subject','rt','pressed','position',\n",
    "    'left','right','att_check']]"
   ]
  },
  {
   "cell_type": "code",
   "execution_count": null,
   "metadata": {},
   "outputs": [],
   "source": [
    "df"
   ]
  },
  {
   "cell_type": "code",
   "execution_count": null,
   "metadata": {
    "scrolled": true
   },
   "outputs": [],
   "source": [
    "# without copy() there is an error when replacing strings\n",
    "d = df.copy()"
   ]
  },
  {
   "cell_type": "code",
   "execution_count": null,
   "metadata": {},
   "outputs": [],
   "source": [
    "# removing unnecessary strings\n",
    "d['left'] = d['left'].str.replace('bvh/vr_prediction_models/','')\n",
    "d['left'] = d['left'].str.replace('bvh/','')\n",
    "d['left'] = d['left'].str.replace('/final-lines.txt','')\n",
    "d['left'] = d['left'].str.replace('-lines.txt','')\n",
    "d['right'] = d['right'].str.replace('bvh/vr_prediction_models/','')\n",
    "d['right'] = d['right'].str.replace('bvh/','')\n",
    "d['right'] = d['right'].str.replace('/final-lines.txt','')\n",
    "d['right'] = d['right'].str.replace('-lines.txt','')"
   ]
  },
  {
   "cell_type": "code",
   "execution_count": null,
   "metadata": {},
   "outputs": [],
   "source": [
    "num = 0\n",
    "model = []\n",
    "for i in d['position']:\n",
    "    if i == 1:\n",
    "        model.append(d['left'][num])\n",
    "    else:\n",
    "        model.append(d['right'][num])\n",
    "    num += 1\n",
    "d['model'] = model"
   ]
  },
  {
   "cell_type": "code",
   "execution_count": null,
   "metadata": {
    "scrolled": true
   },
   "outputs": [],
   "source": [
    "d"
   ]
  },
  {
   "cell_type": "markdown",
   "metadata": {},
   "source": [
    "## Analysis\n",
    "### Individual confusion rate over all models\n",
    "#### with all attention checks included"
   ]
  },
  {
   "cell_type": "code",
   "execution_count": null,
   "metadata": {
    "scrolled": true
   },
   "outputs": [],
   "source": [
    "arr = list(zip(d['pressed'],d['position']))\n",
    "right = 0\n",
    "for i in arr:\n",
    "    if i[0] == i[1]:\n",
    "        right += 1\n",
    "confusion_rate = (len(arr) - right)/len(arr)\n",
    "print(confusion_rate)"
   ]
  },
  {
   "cell_type": "markdown",
   "metadata": {},
   "source": [
    "#### without attention checks"
   ]
  },
  {
   "cell_type": "code",
   "execution_count": null,
   "metadata": {},
   "outputs": [],
   "source": [
    "no_check = d[d['att_check']==False]"
   ]
  },
  {
   "cell_type": "code",
   "execution_count": null,
   "metadata": {},
   "outputs": [],
   "source": [
    "arr_no_check = list(zip(no_check['pressed'],no_check['position']))\n",
    "right = 0\n",
    "for i in arr_no_check:\n",
    "    if i[0] == i[1]:\n",
    "        right += 1\n",
    "confusion_rate = (len(arr_no_check) - right)/len(arr_no_check)\n",
    "print(confusion_rate)"
   ]
  },
  {
   "cell_type": "markdown",
   "metadata": {},
   "source": [
    "### Checking attention\n",
    "#### if confusion rate is zero -> good"
   ]
  },
  {
   "cell_type": "code",
   "execution_count": null,
   "metadata": {},
   "outputs": [],
   "source": [
    "check_att = d[d['att_check']==True]"
   ]
  },
  {
   "cell_type": "code",
   "execution_count": null,
   "metadata": {},
   "outputs": [],
   "source": [
    "arr_check = list(zip(check_att['pressed'],check_att['position']))\n",
    "right = 0\n",
    "for i in arr_check:\n",
    "    if i[0] == i[1]:\n",
    "        right += 1\n",
    "confusion_rate = (len(arr_check) - right)/len(arr_check)\n",
    "print(confusion_rate)"
   ]
  },
  {
   "cell_type": "code",
   "execution_count": null,
   "metadata": {},
   "outputs": [],
   "source": [
    "for i in d:\n",
    "        print(d[i].shape)"
   ]
  },
  {
   "cell_type": "code",
   "execution_count": null,
   "metadata": {},
   "outputs": [],
   "source": []
  },
  {
   "cell_type": "code",
   "execution_count": null,
   "metadata": {},
   "outputs": [],
   "source": [
    "df = []\n",
    "for item in json_files: \n",
    "    with open(item,'r') as f: \n",
    "        load = json.loads(f.read())\n",
    "        df.append(pd.json_normalize(load))"
   ]
  },
  {
   "cell_type": "code",
   "execution_count": null,
   "metadata": {},
   "outputs": [],
   "source": [
    "df"
   ]
  },
  {
   "cell_type": "code",
   "execution_count": null,
   "metadata": {},
   "outputs": [],
   "source": []
  }
 ],
 "metadata": {
  "kernelspec": {
   "display_name": "Python 3",
   "language": "python",
   "name": "python3"
  },
  "language_info": {
   "codemirror_mode": {
    "name": "ipython",
    "version": 3
   },
   "file_extension": ".py",
   "mimetype": "text/x-python",
   "name": "python",
   "nbconvert_exporter": "python",
   "pygments_lexer": "ipython3",
   "version": "3.7.7"
  }
 },
 "nbformat": 4,
 "nbformat_minor": 4
}
